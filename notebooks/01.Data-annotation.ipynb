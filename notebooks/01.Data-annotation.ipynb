{
 "cells": [
  {
   "cell_type": "markdown",
   "id": "607d5e71",
   "metadata": {},
   "source": [
    "# Data Annotation\n",
    "\n",
    "To build an NER model we need to establish a training data set. The base of this can be NASA ADS archive data but we will need to map things into the right format to be compatible with spaCy."
   ]
  },
  {
   "cell_type": "code",
   "execution_count": 44,
   "id": "96d92efe",
   "metadata": {},
   "outputs": [],
   "source": [
    "from pathlib import Path\n",
    "import re\n",
    "import json"
   ]
  },
  {
   "cell_type": "code",
   "execution_count": 2,
   "id": "7e8f46e4",
   "metadata": {},
   "outputs": [],
   "source": [
    "DATA_ROOT = Path(\"../data\")\n",
    "ADS_DATA = DATA_ROOT / \"ads_abstracts\""
   ]
  },
  {
   "cell_type": "code",
   "execution_count": 3,
   "id": "d03639f5",
   "metadata": {},
   "outputs": [],
   "source": [
    "abstract_files = list(ADS_DATA.glob(\"*.json\"))"
   ]
  },
  {
   "cell_type": "code",
   "execution_count": 11,
   "id": "9475020d",
   "metadata": {},
   "outputs": [],
   "source": [
    "with open(abstract_files[0]) as f:\n",
    "    abstract_batch = json.load(f).get(\"response\")"
   ]
  },
  {
   "cell_type": "code",
   "execution_count": null,
   "id": "8b4f4d53",
   "metadata": {},
   "outputs": [
    {
     "name": "stdout",
     "output_type": "stream",
     "text": [
      "{'arxiv_class': ['Astrophysics - Solar and Stellar Astrophysics', 'Astrophysics - Astrophysics of Galaxies'], 'alternate_bibcode': ['2017arXiv170404592S'], 'identifier': ['2017arXiv170404592S', '2017ApJS..230....3S', '10.3847/1538-4365/aa6d76', '1704.04592', '2017arXiv170404592S', '10.3847/1538-4365/aa6d76'], 'first_author': 'Sung, Hwankyung', 'abstract': 'We present deep wide-field optical CCD photometry and mid-infrared Spitzer/IRAC and MIPS 24 μm data for about 100,000 stars in the young open cluster IC 1805. The members of IC 1805 were selected from their location in the various color-color and color-magnitude diagrams, and the presence of Hα emission, mid-infrared excess emission, and X-ray emission. The reddening law toward IC 1805 is nearly normal (R <SUB> V </SUB> = 3.05 ± 0.06). However, the distance modulus of the cluster is estimated to be 11.9 ± 0.2 mag (d=2.4+/- 0.2 kpc) from the reddening-free color-magnitude diagrams, which is larger than the distance to the nearby massive star-forming region W3(OH) measured from the radio VLBA astrometry. We also determined the age of IC 1805 ({τ }<SUB>{MSTO</SUB>}=3.5 Myr). In addition, we critically compared the age and mass scale from two pre-main-sequence evolution models. The initial mass function with a Salpeter-type slope of Γ = -1.3 ± 0.2 was obtained and the total mass of IC 1805 was estimated to be about 2700 ± 200 {M}<SUB>☉ </SUB>. Finally, we found our distance determination to be statistically consistent with the Tycho-Gaia Astrometric Solution Data Release 1, within the errors. The proper motion of the B-type stars shows an elongated distribution along the Galactic plane, which could be explained by some of the B-type stars being formed in small clouds dispersed by previous episodes of star formation or supernova explosions. The optical imaging data in this article were gathered with two facilities: the AZT-22 1.5 m telescope at Maidanak Astronomical Observatory in Uzbekistan and the Canada-France-Hawaii Telescope (CFHT), which is operated by the National Research Council of Canada, the Institut National des Sciences de l’Univers of the Centre National de la Recherche Scientifique of France, and the University of Hawaii.', 'citation_count': 0, 'year': '2017', 'property': ['ASSOCIATED', 'DATA', 'ESOURCE', 'ARTICLE', 'REFEREED', 'EPRINT_OPENACCESS', 'OPENACCESS'], 'id': '14926346', 'page': ['3'], 'bibcode': '2017ApJS..230....3S', 'bibgroup': ['XMM', 'CXC', 'Spitzer', 'CFHT'], 'pubdate': '2017-05-00', 'author': ['Sung, Hwankyung', 'Bessell, Michael S.', 'Chun, Moo-Young', 'Yi, Jonghyuk', 'Nazé, Y.', 'Lim, Beomdu', 'Karimov, R.', 'Rauw, G.', 'Park, Byeong-Gon', 'Hur, Hyeonoh'], 'aff': ['Department of Astronomy and Space Science, Sejong University, 209 Neungdong-ro, Kwangjin-gu, Seoul 05006, Korea ; Visiting Researcher, Korea Astronomy and Space Science Institute, Korea;', 'Research School of Astronomy & Astrophysics, The Australian National University, Canberra, ACT 2611, Australia', 'Korea Astronomy and Space Science Institute, 776 Daedeokdae-ro, Yuseong-gu, Daejeon 34055, Korea', 'SELab, Inc., 8 Nonhyeon-ro 150-gil, Gangnam-gu, Seoul 06049, Korea', 'Groupe d’Astrophysique des Hautes Energies, Institut d’Astrophysique et de Géophysique, Université de Liège, Allée du 6 Août, 19c, Bât B5c, B-4000 Liège, Belgium', 'Korea Astronomy and Space Science Institute, 776 Daedeokdae-ro, Yuseong-gu, Daejeon 34055, Korea', 'Ulugh Beg Astronomical Institute, Uzbek Academy of Sciences, 33 Astronomical Street, Tashkent 700052, Uzbekistan', 'Groupe d’Astrophysique des Hautes Energies, Institut d’Astrophysique et de Géophysique, Université de Liège, Allée du 6 Août, 19c, Bât B5c, B-4000 Liège, Belgium', 'Korea Astronomy and Space Science Institute, 776 Daedeokdae-ro, Yuseong-gu, Daejeon 34055, Korea', 'Daegu National Science Museum, 20, Techno-daero-6-gil, Yuga-myeon, Dalseong-gun, Daegu 43023, Korea'], 'orcid_pub': ['-', '0000-0001-7801-1410', '-', '-', '0000-0003-4071-9346', '0000-0001-5797-9828', '-', '-', '-', '0000-0001-9532-8524'], 'issue': '1', 'orcid_other': ['-', '-', '-', '-', '0000-0003-4071-9346', '-', '-', '0000-0003-4715-9871', '-', '-'], 'volume': '230', 'doi': ['10.3847/1538-4365/aa6d76'], 'pub': 'The Astrophysical Journal Supplement Series', 'data': ['CDS:1', 'HEASARC:1', 'SIMBAD:42'], 'keyword': ['open clusters and associations: individual: IC 1805', 'stars: formation', 'stars: pre-main sequence', 'Astrophysics - Solar and Stellar Astrophysics', 'Astrophysics - Astrophysics of Galaxies'], 'database': ['astronomy'], 'ack': '\\nThe authors thank the anonymous referee who gave many helpful comments and suggestions. H.S. would like to express his thanks to Dr. Inwoo Han, the President of the Korea Astronomy and Space Science Institute for hosting him as a Visiting Researcher. H.S. acknowledges the support of the National Research Foundation of Korea (Grant No. NRF-2015R1D1A1A01058444).\\nFacilities: Spitzer (IRAC and MIPS), CFHT, Maidanak:1.5 m, XMM-Newton, Gaia.\\nSoftware: IRAF, IDL, SM.\\n', 'doctype': 'article', 'read_count': 51, 'title': ['An Optical and Infrared Photometric Study of the Young Open Cluster IC 1805 in the Giant H II Region W4 <SUP>†</SUP>'], 'indexstamp': '2018-01-10T19:06:26.247Z'}\n"
     ]
    }
   ],
   "source": [
    "for doc in abstract_batch.get(\"docs\"):\n",
    "    keywords = ' - '.join(doc.get(\"keyword\", []))\n",
    "    if \": individual:\" in keywords.lower():\n",
    "        print(doc)\n",
    "        break"
   ]
  },
  {
   "cell_type": "code",
   "execution_count": 21,
   "id": "1ab7df89",
   "metadata": {},
   "outputs": [
    {
     "data": {
      "text/plain": [
       "['open clusters and associations: individual: IC 1805',\n",
       " 'stars: formation',\n",
       " 'stars: pre-main sequence',\n",
       " 'Astrophysics - Solar and Stellar Astrophysics',\n",
       " 'Astrophysics - Astrophysics of Galaxies']"
      ]
     },
     "execution_count": 21,
     "metadata": {},
     "output_type": "execute_result"
    }
   ],
   "source": [
    "doc.get(\"keyword\")"
   ]
  },
  {
   "cell_type": "code",
   "execution_count": 72,
   "id": "54b70c84",
   "metadata": {},
   "outputs": [],
   "source": [
    "def extract_astronomical_keyword_entities(doc: dict)->list[str]:\n",
    "    \"\"\"\n",
    "    Extracts astronomical entities from the document keywords.\n",
    "    \"\"\"\n",
    "    entities = []\n",
    "    keywords = doc.get(\"keyword\", [])\n",
    "    for keyword in keywords:\n",
    "        if \"individual: \" in keyword.lower():\n",
    "            entity = keyword.split(\"individual: \")[-1].strip()\n",
    "            entities.append(entity)\n",
    "    return entities\n",
    "\n",
    "def find_entities_in_text(text: str, \n",
    "                          entities: list[str]\n",
    "                          )->dict[str: list[tuple[int]]]:\n",
    "    \"\"\"\n",
    "    Finds the specified entities in the text and returns \n",
    "    the start and end index of each occurrence of each entity.\n",
    "    \"\"\"\n",
    "    found_entities = {}\n",
    "    for entity in entities:\n",
    "        if locations:=find_exact_matches(text, entity):\n",
    "            found_entities[entity] = locations\n",
    "    return found_entities\n",
    "\n",
    "\n",
    "def find_exact_matches(text: str, search_string: str) -> list[tuple[int, int]]:\n",
    "    \"\"\"\n",
    "    Finds occurrences of the exact string, allowing a space or punctuation mark after it.\n",
    "    This ensures that substrings like \"34 Normae\" are not matched.\n",
    "\n",
    "    Args:\n",
    "        text: The string to search within.\n",
    "        search_string: The exact string to search for.\n",
    "\n",
    "    Returns:\n",
    "        A list of tuples, where each tuple contains the (start, end) index\n",
    "        of a match.\n",
    "    \"\"\"\n",
    "    if not search_string:\n",
    "        return []\n",
    "\n",
    "    # Construct the regex pattern.\n",
    "    # We escape the search string in case it contains any regex special characters.\n",
    "    # We use a positive lookahead to ensure the match is followed by a space or punctuation,\n",
    "    # but without consuming that character for the next match.\n",
    "    pattern = re.compile(re.escape(search_string) + r\"(?=[\\s\\W])\")\n",
    "\n",
    "    occurrences = []\n",
    "    for match in pattern.finditer(text):\n",
    "        start_index = match.start()\n",
    "        end_index = match.end() - 1  # End index is inclusive\n",
    "        occurrences.append((start_index, end_index))\n",
    "    return occurrences\n",
    "\n",
    "def search_title_for_entities(doc: dict, entities: list[str]) -> dict[str, list[tuple[int]]]:\n",
    "    \"\"\"\n",
    "    Searches the document title for the specified entities and returns their occurrences.\n",
    "    \"\"\"\n",
    "    text = ' '.join(doc.get(\"title\", []))\n",
    "    found_entities = find_entities_in_text(text, entities)\n",
    "    return text, found_entities\n",
    "\n",
    "def search_abstract_for_entities(doc: dict, entities: list[str]) -> dict[str, list[tuple[int]]]:\n",
    "    \"\"\"\n",
    "    Searches the document abstract for the specified entities and returns their occurrences.\n",
    "    \"\"\"\n",
    "    text = doc.get(\"abstract\", \"\")\n",
    "    found_entities = find_entities_in_text(text, entities)\n",
    "    return text, found_entities\n",
    "\n",
    "def build_data_model(doc):\n",
    "    \"\"\"\n",
    "    Builds the data structure for training a NER model.\n",
    "    \"\"\"\n",
    "    entities = extract_astronomical_keyword_entities(doc)\n",
    "    if not entities:\n",
    "        return None\n",
    "    \n",
    "    data_model = {\n",
    "        \"doc_id\": doc.get(\"id\"),\n",
    "        \"title\": doc.get(\"title\", \"\"),\n",
    "        \"abstract\": doc.get(\"abstract\", \"\"),\n",
    "        \"keywords\": doc.get(\"keyword\", []),\n",
    "        \"objects\": entities,\n",
    "    }\n",
    "    \n",
    "    title, title_entities = search_title_for_entities(doc, entities)\n",
    "    abstract, abstract_entities = search_abstract_for_entities(doc, entities)\n",
    "\n",
    "    data_model[\"title_entities\"] = title_entities\n",
    "    data_model[\"abstract_entities\"] = abstract_entities\n",
    "\n",
    "    spacy_ner_data = []\n",
    "    if title_entities:\n",
    "        spacy_ner_data.extend(build_spacy_ner_data(title, title_entities))\n",
    "    if abstract_entities:\n",
    "        spacy_ner_data.extend(build_spacy_ner_data(abstract, abstract_entities))\n",
    "    data_model[\"spacy_ner_data\"] = spacy_ner_data\n",
    "    \n",
    "    return data_model\n",
    "\n",
    "def build_spacy_ner_data(text: str, entities: dict[str, list[tuple[int]]]) -> list[dict]:\n",
    "    \"\"\"\n",
    "    Builds the data structure for training a spaCy NER model.\n",
    "    \"\"\"\n",
    "    ner_data = [text,\n",
    "                {\n",
    "                    \"entities\": [(*loc, \"ASTRO_OBJ\") for _, locs in entities.items() for loc in locs]\n",
    "                },\n",
    "                ]\n",
    "    return ner_data"
   ]
  },
  {
   "cell_type": "markdown",
   "id": "dd8d0cb1",
   "metadata": {},
   "source": []
  },
  {
   "cell_type": "code",
   "execution_count": 73,
   "id": "002c0c37",
   "metadata": {},
   "outputs": [
    {
     "data": {
      "text/plain": [
       "{'doc_id': '14926346',\n",
       " 'title': ['An Optical and Infrared Photometric Study of the Young Open Cluster IC 1805 in the Giant H II Region W4 <SUP>†</SUP>'],\n",
       " 'abstract': 'We present deep wide-field optical CCD photometry and mid-infrared Spitzer/IRAC and MIPS 24 μm data for about 100,000 stars in the young open cluster IC 1805. The members of IC 1805 were selected from their location in the various color-color and color-magnitude diagrams, and the presence of Hα emission, mid-infrared excess emission, and X-ray emission. The reddening law toward IC 1805 is nearly normal (R <SUB> V </SUB> = 3.05 ± 0.06). However, the distance modulus of the cluster is estimated to be 11.9 ± 0.2 mag (d=2.4+/- 0.2 kpc) from the reddening-free color-magnitude diagrams, which is larger than the distance to the nearby massive star-forming region W3(OH) measured from the radio VLBA astrometry. We also determined the age of IC 1805 ({τ }<SUB>{MSTO</SUB>}=3.5 Myr). In addition, we critically compared the age and mass scale from two pre-main-sequence evolution models. The initial mass function with a Salpeter-type slope of Γ = -1.3 ± 0.2 was obtained and the total mass of IC 1805 was estimated to be about 2700 ± 200 {M}<SUB>☉ </SUB>. Finally, we found our distance determination to be statistically consistent with the Tycho-Gaia Astrometric Solution Data Release 1, within the errors. The proper motion of the B-type stars shows an elongated distribution along the Galactic plane, which could be explained by some of the B-type stars being formed in small clouds dispersed by previous episodes of star formation or supernova explosions. The optical imaging data in this article were gathered with two facilities: the AZT-22 1.5 m telescope at Maidanak Astronomical Observatory in Uzbekistan and the Canada-France-Hawaii Telescope (CFHT), which is operated by the National Research Council of Canada, the Institut National des Sciences de l’Univers of the Centre National de la Recherche Scientifique of France, and the University of Hawaii.',\n",
       " 'keywords': ['open clusters and associations: individual: IC 1805',\n",
       "  'stars: formation',\n",
       "  'stars: pre-main sequence',\n",
       "  'Astrophysics - Solar and Stellar Astrophysics',\n",
       "  'Astrophysics - Astrophysics of Galaxies'],\n",
       " 'objects': ['IC 1805'],\n",
       " 'title_entities': {'IC 1805': [(68, 74)]},\n",
       " 'abstract_entities': {'IC 1805': [(150, 156),\n",
       "   (174, 180),\n",
       "   (381, 387),\n",
       "   (742, 748),\n",
       "   (993, 999)]},\n",
       " 'spacy_ner_data': ['An Optical and Infrared Photometric Study of the Young Open Cluster IC 1805 in the Giant H II Region W4 <SUP>†</SUP>',\n",
       "  {'entities': [(68, 74, 'ASTRO_OBJ')]},\n",
       "  'We present deep wide-field optical CCD photometry and mid-infrared Spitzer/IRAC and MIPS 24 μm data for about 100,000 stars in the young open cluster IC 1805. The members of IC 1805 were selected from their location in the various color-color and color-magnitude diagrams, and the presence of Hα emission, mid-infrared excess emission, and X-ray emission. The reddening law toward IC 1805 is nearly normal (R <SUB> V </SUB> = 3.05 ± 0.06). However, the distance modulus of the cluster is estimated to be 11.9 ± 0.2 mag (d=2.4+/- 0.2 kpc) from the reddening-free color-magnitude diagrams, which is larger than the distance to the nearby massive star-forming region W3(OH) measured from the radio VLBA astrometry. We also determined the age of IC 1805 ({τ }<SUB>{MSTO</SUB>}=3.5 Myr). In addition, we critically compared the age and mass scale from two pre-main-sequence evolution models. The initial mass function with a Salpeter-type slope of Γ = -1.3 ± 0.2 was obtained and the total mass of IC 1805 was estimated to be about 2700 ± 200 {M}<SUB>☉ </SUB>. Finally, we found our distance determination to be statistically consistent with the Tycho-Gaia Astrometric Solution Data Release 1, within the errors. The proper motion of the B-type stars shows an elongated distribution along the Galactic plane, which could be explained by some of the B-type stars being formed in small clouds dispersed by previous episodes of star formation or supernova explosions. The optical imaging data in this article were gathered with two facilities: the AZT-22 1.5 m telescope at Maidanak Astronomical Observatory in Uzbekistan and the Canada-France-Hawaii Telescope (CFHT), which is operated by the National Research Council of Canada, the Institut National des Sciences de l’Univers of the Centre National de la Recherche Scientifique of France, and the University of Hawaii.',\n",
       "  {'entities': [(150, 156, 'ASTRO_OBJ'),\n",
       "    (174, 180, 'ASTRO_OBJ'),\n",
       "    (381, 387, 'ASTRO_OBJ'),\n",
       "    (742, 748, 'ASTRO_OBJ'),\n",
       "    (993, 999, 'ASTRO_OBJ')]}]}"
      ]
     },
     "execution_count": 73,
     "metadata": {},
     "output_type": "execute_result"
    }
   ],
   "source": [
    "build_data_model(doc)"
   ]
  },
  {
   "cell_type": "code",
   "execution_count": null,
   "id": "606a96d6",
   "metadata": {},
   "outputs": [],
   "source": []
  }
 ],
 "metadata": {
  "kernelspec": {
   "display_name": "astronomical-ner",
   "language": "python",
   "name": "python3"
  },
  "language_info": {
   "codemirror_mode": {
    "name": "ipython",
    "version": 3
   },
   "file_extension": ".py",
   "mimetype": "text/x-python",
   "name": "python",
   "nbconvert_exporter": "python",
   "pygments_lexer": "ipython3",
   "version": "3.12.6"
  }
 },
 "nbformat": 4,
 "nbformat_minor": 5
}
